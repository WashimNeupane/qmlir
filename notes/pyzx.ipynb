{
 "cells": [
  {
   "cell_type": "code",
   "execution_count": null,
   "metadata": {},
   "outputs": [],
   "source": [
    "import pyzx as zx\n",
    "from fractions import Fraction"
   ]
  },
  {
   "cell_type": "code",
   "execution_count": null,
   "metadata": {},
   "outputs": [],
   "source": [
    "# Uses the following identity:\n",
    "#         ───W(a)───W(b)───\n",
    "#         ≡ ───Z^-a───X───Z^a───Z^-b───X───Z^b───\n",
    "#         ≡ ───Z^-a───Z^-a───Z^b───X───X───Z^b───\n",
    "#         ≡ ───Z^-a───Z^-a───Z^b───Z^b───\n",
    "#         ≡ ───Z^2(b-a)───\n",
    "\n",
    "# ──W(a)─ ≡ ───Z^-a───X───Z^a─\n",
    "def W(a):\n",
    "    c = zx.Circuit(qubit_amount=1)\n",
    "    c.add_gate(\"ZPhase\", 0, \"-\" + a)\n",
    "    c.add_gate(\"NOT\", 0)\n",
    "    c.add_gate(\"ZPhase\", 0, a)\n",
    "    return c"
   ]
  },
  {
   "cell_type": "code",
   "execution_count": null,
   "metadata": {},
   "outputs": [],
   "source": [
    "# zx.draw(W(\"1/7\"))\n",
    "\n",
    "c = W(\"1/7\") + W(\"1/3\")\n",
    "# zx.draw(c)\n",
    "g = c.to_graph()\n",
    "# zx.full_reduce(g, quiet=False)\n",
    "zx.draw(g)\n",
    "print(g.types())"
   ]
  },
  {
   "cell_type": "code",
   "execution_count": null,
   "metadata": {},
   "outputs": [],
   "source": [
    "c = zx.Circuit(qubit_amount=3)\n",
    "c.add_gate(\"HAD\", 1)\n",
    "c.add_gate(\"CNOT\", 1, 2)\n",
    "c.add_gate(\"CNOT\", 1, 0)\n",
    "c.add_gate(\"HAD\", 1)\n",
    "c.add_gate(\"CZ\", 1, 2)\n",
    "c.add_gate(\"CX\", 0, 2)\n",
    "print (c.col_add())\n",
    "zx.draw(c)\n",
    "\n",
    "g = c.to_graph()\n",
    "zx.full_reduce(g)\n",
    "zx.draw(g)"
   ]
  },
  {
   "cell_type": "code",
   "execution_count": null,
   "metadata": {},
   "outputs": [],
   "source": [
    "def mkgraph():\n",
    "    gr = zx.Graph()\n",
    "    l = gr.add_vertex(zx.VertexType.BOUNDARY)\n",
    "    a = gr.add_vertex()\n",
    "    b = gr.add_vertex()\n",
    "    r = gr.add_vertex(zx.VertexType.BOUNDARY)\n",
    "    gr.add_edges([(l, a), (a, b), (b, r)])\n",
    "    \n",
    "    zx.draw(gr)\n",
    "\n",
    "mkgraph()"
   ]
  },
  {
   "cell_type": "code",
   "execution_count": null,
   "metadata": {},
   "outputs": [],
   "source": [
    "def parseMLIR(filename):\n",
    "    values = dict()\n",
    "    g = zx.Graph('simple')\n",
    "    n = 0\n",
    "    with open(filename, 'r') as f:\n",
    "        for line in f.readlines():\n",
    "            line = line.strip().split(' ')\n",
    "            if len(line) == 0:\n",
    "                continue\n",
    "            if line[0] == 'zxg.wire':\n",
    "                g.add_edge((values[line[1]], values[line[2]]))\n",
    "                continue\n",
    "            if line[0][0:1] == '%':\n",
    "                if line[2] == 'constant':\n",
    "                    values[line[0]] = float(line[3])\n",
    "                if line[2] == 'zxg.H':\n",
    "                    values[line[0]] = g.add_vertex(zx.VertexType.H_BOX, n, n)\n",
    "                if line[2] == 'zxg.Z':\n",
    "                    values[line[0]] = g.add_vertex(zx.VertexType.Z, n,n, phase=Fraction(2,1))\n",
    "                if line[2] == 'zxg.X':\n",
    "                    values[line[0]] = g.add_vertex(zx.VertexType.X, n,n,phase=Fraction(2,1))\n",
    "                    g.set_phase(values[line[0]], 1)\n",
    "                if line[2] == 'zxg.terminal':\n",
    "                    values[line[0]] = g.add_vertex(zx.VertexType.BOUNDARY)\n",
    "                    g.inputs.append(values[line[0]])\n",
    "                n += 1\n",
    "    return g"
   ]
  },
  {
   "cell_type": "code",
   "execution_count": null,
   "metadata": {},
   "outputs": [],
   "source": [
    "gr = parseMLIR('../test/ZXGraph/Rewrites/entanglement-detection.mlir')\n",
    "# zx.full_reduce(gr)\n",
    "zx.draw(gr)\n",
    "print(gr.vertices())\n",
    "print(list(gr.edges()))\n",
    "print(gr.phases())"
   ]
  }
 ],
 "metadata": {
  "kernelspec": {
   "display_name": "Python 3",
   "language": "python",
   "name": "python3"
  },
  "language_info": {
   "codemirror_mode": {
    "name": "ipython",
    "version": 3
   },
   "file_extension": ".py",
   "mimetype": "text/x-python",
   "name": "python",
   "nbconvert_exporter": "python",
   "pygments_lexer": "ipython3",
   "version": "3.8.5"
  }
 },
 "nbformat": 4,
 "nbformat_minor": 4
}
